{
  "nbformat": 4,
  "nbformat_minor": 0,
  "metadata": {
    "colab": {
      "provenance": [],
      "authorship_tag": "ABX9TyOuRumMuEkFXlOoKfk9N4mp",
      "include_colab_link": true
    },
    "kernelspec": {
      "name": "python3",
      "display_name": "Python 3"
    },
    "language_info": {
      "name": "python"
    }
  },
  "cells": [
    {
      "cell_type": "markdown",
      "metadata": {
        "id": "view-in-github",
        "colab_type": "text"
      },
      "source": [
        "<a href=\"https://colab.research.google.com/github/HarshithaGanta/Data-Mining/blob/main/ADM_Lab_07.ipynb\" target=\"_parent\"><img src=\"https://colab.research.google.com/assets/colab-badge.svg\" alt=\"Open In Colab\"/></a>"
      ]
    },
    {
      "cell_type": "code",
      "source": [
        "import pandas as pd\n",
        "from sklearn.preprocessing import LabelEncoder, OneHotEncoder"
      ],
      "metadata": {
        "id": "2pokd7UJk3Za"
      },
      "execution_count": 9,
      "outputs": []
    },
    {
      "cell_type": "code",
      "source": [
        "#Example data\n",
        "data={'Category':['A','B','C','A','B']}\n",
        "df=pd.DataFrame(data)\n",
        "print(df)"
      ],
      "metadata": {
        "colab": {
          "base_uri": "https://localhost:8080/"
        },
        "id": "2SRw8cHEfQgG",
        "outputId": "b9942db7-8e1e-4244-c508-f8b3fb017ab4"
      },
      "execution_count": 12,
      "outputs": [
        {
          "output_type": "stream",
          "name": "stdout",
          "text": [
            "  Category\n",
            "0        A\n",
            "1        B\n",
            "2        C\n",
            "3        A\n",
            "4        B\n"
          ]
        }
      ]
    },
    {
      "cell_type": "code",
      "source": [
        "Label_encoder=LabelEncoder()\n",
        "df['Label_Encoded']=Label_encoder.fit_transform(df['Category'])\n",
        "print(df)"
      ],
      "metadata": {
        "colab": {
          "base_uri": "https://localhost:8080/"
        },
        "id": "xcta6p3KfRoB",
        "outputId": "5dc03795-f2a2-466d-c8ac-801bf77d1d90"
      },
      "execution_count": 13,
      "outputs": [
        {
          "output_type": "stream",
          "name": "stdout",
          "text": [
            "  Category  Label_Encoded\n",
            "0        A              0\n",
            "1        B              1\n",
            "2        C              2\n",
            "3        A              0\n",
            "4        B              1\n"
          ]
        }
      ]
    },
    {
      "cell_type": "code",
      "source": [
        "one_hot_encoder=pd.get_dummies(df['Category'],prefix='Category')\n",
        "df=pd.concat([df,one_hot_encoder],axis=1)\n",
        "print(df)"
      ],
      "metadata": {
        "colab": {
          "base_uri": "https://localhost:8080/"
        },
        "id": "AcKyvD6ufRrr",
        "outputId": "941b67ae-24f9-4797-9280-0029d002adfd"
      },
      "execution_count": 14,
      "outputs": [
        {
          "output_type": "stream",
          "name": "stdout",
          "text": [
            "  Category  Label_Encoded  Category_A  Category_B  Category_C\n",
            "0        A              0        True       False       False\n",
            "1        B              1       False        True       False\n",
            "2        C              2       False       False        True\n",
            "3        A              0        True       False       False\n",
            "4        B              1       False        True       False\n"
          ]
        }
      ]
    },
    {
      "cell_type": "code",
      "source": [
        "import pandas as pd\n",
        "from datetime import datetime # Import the datetime module\n",
        "\n",
        "data={'Name':['Alise','Bob','pooj'],'Date_of_birth':['1990-05-14','1995-08-23','1902-09-01']}\n",
        "df=pd.DataFrame(data)\n",
        "print(df)\n",
        "\n",
        "df['Date_of_birth']=pd.to_datetime(df['Date_of_birth'])\n",
        "current_year=datetime.now().year # Now you can use datetime.now().year\n",
        "df['Age']=current_year-df['Date_of_birth'].dt.year\n",
        "print(df)"
      ],
      "metadata": {
        "colab": {
          "base_uri": "https://localhost:8080/"
        },
        "id": "PE5TUn-sfMhS",
        "outputId": "606262f8-177a-4d01-d81a-95da02f23141"
      },
      "execution_count": 26,
      "outputs": [
        {
          "output_type": "stream",
          "name": "stdout",
          "text": [
            "    Name Date_of_birth\n",
            "0  Alise    1990-05-14\n",
            "1    Bob    1995-08-23\n",
            "2   pooj    1902-09-01\n",
            "    Name Date_of_birth  Age\n",
            "0  Alise    1990-05-14   35\n",
            "1    Bob    1995-08-23   30\n",
            "2   pooj    1902-09-01  123\n"
          ]
        }
      ]
    },
    {
      "cell_type": "code",
      "source": [
        "data={'Category':['A','B','B','A','C'],\n",
        "      'Value':[10,20,10,30,40]}\n",
        "pf=pd.DataFrame(data)\n",
        "print(df)"
      ],
      "metadata": {
        "colab": {
          "base_uri": "https://localhost:8080/"
        },
        "id": "ueoppaULqGF4",
        "outputId": "65130668-b9a0-4057-9f01-9957d22f42b9"
      },
      "execution_count": 39,
      "outputs": [
        {
          "output_type": "stream",
          "name": "stdout",
          "text": [
            "    Name Date_of_birth  Age\n",
            "0  Alise    1990-05-14   35\n",
            "1    Bob    1995-08-23   30\n",
            "2   pooj    1902-09-01  123\n"
          ]
        }
      ]
    },
    {
      "cell_type": "code",
      "source": [
        "grouped_df=pf.groupby('Category').agg({'Value':['sum','mean']})\n",
        "print(\"Grouped Data:\")\n",
        "print(grouped_df)"
      ],
      "metadata": {
        "colab": {
          "base_uri": "https://localhost:8080/"
        },
        "id": "COKsAYU3rZk0",
        "outputId": "34b078ec-55d2-45a7-b00d-e895d330b603"
      },
      "execution_count": 40,
      "outputs": [
        {
          "output_type": "stream",
          "name": "stdout",
          "text": [
            "Grouped Data:\n",
            "         Value      \n",
            "           sum  mean\n",
            "Category            \n",
            "A           40  20.0\n",
            "B           30  15.0\n",
            "C           40  40.0\n"
          ]
        }
      ]
    },
    {
      "cell_type": "code",
      "source": [
        "pivot=pf.pivot_table(index='Category',values='Value',aggfunc=['sum','mean'])\n",
        "\n",
        "print(pivot)"
      ],
      "metadata": {
        "colab": {
          "base_uri": "https://localhost:8080/"
        },
        "id": "htJs7-_4rcwx",
        "outputId": "b75296c7-8f4c-44a3-fa07-921cf9284247"
      },
      "execution_count": 44,
      "outputs": [
        {
          "output_type": "stream",
          "name": "stdout",
          "text": [
            "           sum  mean\n",
            "         Value Value\n",
            "Category            \n",
            "A           40  20.0\n",
            "B           30  15.0\n",
            "C           40  40.0\n"
          ]
        }
      ]
    }
  ]
}